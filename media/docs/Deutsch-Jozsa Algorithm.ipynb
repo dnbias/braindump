{
 "cells": [
  {
   "cell_type": "markdown",
   "id": "5c8c3454",
   "metadata": {},
   "source": [
    "# Algorithm"
   ]
  },
  {
   "cell_type": "markdown",
   "id": "24329ddb",
   "metadata": {},
   "source": [
    "ref. chapter 8.2 <i>Learn Quantum Computing w/ Python and Q# - Kaiser,Granade</i>"
   ]
  },
  {
   "cell_type": "markdown",
   "id": "aa0bab37",
   "metadata": {},
   "source": [
    "Classically, to determine if a function is constant or balanced, we must learn the entire function (build its entire truth table).\n",
    "With this algorithm we can solve this with a single call to the oracle $U_f$."
   ]
  },
  {
   "cell_type": "markdown",
   "id": "09e0317e",
   "metadata": {},
   "source": [
    "1. Prepare 2 qubits labeled control and target in $| 0 \\rangle \\otimes | 0 \\rangle$ state\n",
    "2. Apply operations to control and target to prepare $| + \\rangle \\otimes |-\\rangle$ state\n",
    "3. Apply oracle $U_f$ to this state, $U_f | x \\rangle | y \\rangle = |x\\rangle |y \\oplus f(x) \\rangle$\n",
    "4. Measure control in X-basis: function $f$ is constant if 0, balanced otherwise."
   ]
  },
  {
   "cell_type": "code",
   "execution_count": 4,
   "id": "cc83c444",
   "metadata": {},
   "outputs": [
    {
     "data": {
      "application/x-qsharp-data": "[\"ApplyZeroOracle\",\"ApplyOneOracle\",\"ApplyIdOracle\",\"ApplyNotOracle\",\"CheckIfOracleIsBalanced\",\"RunDeutschJozsaAlgorithm\"]",
      "text/html": [
       "<ul><li>ApplyZeroOracle</li><li>ApplyOneOracle</li><li>ApplyIdOracle</li><li>ApplyNotOracle</li><li>CheckIfOracleIsBalanced</li><li>RunDeutschJozsaAlgorithm</li></ul>"
      ],
      "text/plain": [
       "ApplyZeroOracle, ApplyOneOracle, ApplyIdOracle, ApplyNotOracle, CheckIfOracleIsBalanced, RunDeutschJozsaAlgorithm"
      ]
     },
     "execution_count": 4,
     "metadata": {},
     "output_type": "execute_result"
    }
   ],
   "source": [
    "open Microsoft.Quantum.Intrinsic;\n",
    "open Microsoft.Quantum.Diagnostics;\n",
    "open Microsoft.Quantum.Measurement;\n",
    "\n",
    "operation ApplyZeroOracle(control : Qubit, target : Qubit) : Unit {\n",
    "}\n",
    "\n",
    "operation ApplyOneOracle(control : Qubit, target : Qubit) : Unit {\n",
    "    X(target);\n",
    "}\n",
    "\n",
    "operation ApplyIdOracle(control : Qubit, target : Qubit) : Unit {\n",
    "    CNOT(control,target);\n",
    "}\n",
    "\n",
    "operation ApplyNotOracle(control : Qubit, target : Qubit) : Unit {\n",
    "    X(control);\n",
    "    CNOT(control,target);\n",
    "    X(control);\n",
    "}\n",
    "\n",
    "operation CheckIfOracleIsBalanced(oracle : (( Qubit, Qubit ) => Unit)) : Bool {\n",
    "    use control = Qubit();\n",
    "    use target = Qubit();\n",
    "\n",
    "    H(control);\n",
    "    X(target);\n",
    "    H(target);\n",
    "\n",
    "    oracle(control, target);\n",
    "\n",
    "    H(target);\n",
    "    X(target);\n",
    "\n",
    "    return MResetX(control) == One;\n",
    "}\n",
    "\n",
    "operation RunDeutschJozsaAlgorithm() : Unit {\n",
    "    Fact(not CheckIfOracleIsBalanced(ApplyZeroOracle), \"Test failed for zero oracle.\");\n",
    "    Fact(not CheckIfOracleIsBalanced(ApplyOneOracle), \"Test failed for zero oracle.\");\n",
    "    Fact(CheckIfOracleIsBalanced(ApplyIdOracle), \"Test failed for zero oracle.\");\n",
    "    Fact(CheckIfOracleIsBalanced(ApplyNotOracle), \"Test failed for zero oracle.\");\n",
    "\n",
    "    Message(\"All tests passed.\");\n",
    "}"
   ]
  },
  {
   "cell_type": "code",
   "execution_count": 6,
   "id": "89ab2ee5",
   "metadata": {},
   "outputs": [
    {
     "name": "stdout",
     "output_type": "stream",
     "text": [
      "All tests passed.\n"
     ]
    },
    {
     "data": {
      "application/x-qsharp-data": "{\"@type\":\"tuple\"}",
      "text/plain": [
       "()"
      ]
     },
     "execution_count": 6,
     "metadata": {},
     "output_type": "execute_result"
    }
   ],
   "source": [
    "%simulate RunDeutschJozsaAlgorithm"
   ]
  }
 ],
 "metadata": {
  "kernelspec": {
   "display_name": "Q#",
   "language": "qsharp",
   "name": "iqsharp"
  },
  "language_info": {
   "file_extension": ".qs",
   "mimetype": "text/x-qsharp",
   "name": "qsharp",
   "version": "0.14"
  }
 },
 "nbformat": 4,
 "nbformat_minor": 5
}
